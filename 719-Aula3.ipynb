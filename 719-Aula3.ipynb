{
 "cells": [
  {
   "cell_type": "markdown",
   "metadata": {},
   "source": [
    "### Aula 3 - Análise estatística"
   ]
  },
  {
   "cell_type": "markdown",
   "metadata": {},
   "source": [
    "#### para instalar as bibliotecas execute:\n",
    "##### install.packages('readr')\n",
    "##### install.packages(\"plyr\")"
   ]
  },
  {
   "cell_type": "code",
   "execution_count": 16,
   "metadata": {},
   "outputs": [],
   "source": [
    "library(readr)\n",
    "library(plyr)"
   ]
  },
  {
   "cell_type": "code",
   "execution_count": 17,
   "metadata": {},
   "outputs": [
    {
     "name": "stderr",
     "output_type": "stream",
     "text": [
      "Parsed with column specification:\n",
      "cols(\n",
      "  user_id = col_integer(),\n",
      "  course_id = col_integer(),\n",
      "  timeToFinish = col_integer()\n",
      ")\n"
     ]
    }
   ],
   "source": [
    "duracao <- read_csv('datasets/duracao.csv')"
   ]
  },
  {
   "cell_type": "code",
   "execution_count": 18,
   "metadata": {},
   "outputs": [],
   "source": [
    "duracao <- rename(duracao, replace = c('user_id'='aluno', 'course_id'='curso', 'timeToFinish'='dias'))"
   ]
  },
  {
   "cell_type": "code",
   "execution_count": 19,
   "metadata": {},
   "outputs": [
    {
     "data": {
      "text/html": [
       "<table>\n",
       "<thead><tr><th scope=col>aluno</th><th scope=col>curso</th><th scope=col>dias</th></tr></thead>\n",
       "<tbody>\n",
       "\t<tr><td>477</td><td> 19</td><td>0  </td></tr>\n",
       "\t<tr><td>110</td><td>251</td><td>0  </td></tr>\n",
       "\t<tr><td>474</td><td>149</td><td>0  </td></tr>\n",
       "\t<tr><td>474</td><td>140</td><td>0  </td></tr>\n",
       "\t<tr><td>474</td><td>167</td><td>0  </td></tr>\n",
       "\t<tr><td> 30</td><td>213</td><td>0  </td></tr>\n",
       "</tbody>\n",
       "</table>\n"
      ],
      "text/latex": [
       "\\begin{tabular}{r|lll}\n",
       " aluno & curso & dias\\\\\n",
       "\\hline\n",
       "\t 477 &  19 & 0  \\\\\n",
       "\t 110 & 251 & 0  \\\\\n",
       "\t 474 & 149 & 0  \\\\\n",
       "\t 474 & 140 & 0  \\\\\n",
       "\t 474 & 167 & 0  \\\\\n",
       "\t  30 & 213 & 0  \\\\\n",
       "\\end{tabular}\n"
      ],
      "text/markdown": [
       "\n",
       "aluno | curso | dias | \n",
       "|---|---|---|---|---|---|\n",
       "| 477 |  19 | 0   | \n",
       "| 110 | 251 | 0   | \n",
       "| 474 | 149 | 0   | \n",
       "| 474 | 140 | 0   | \n",
       "| 474 | 167 | 0   | \n",
       "|  30 | 213 | 0   | \n",
       "\n",
       "\n"
      ],
      "text/plain": [
       "  aluno curso dias\n",
       "1 477    19   0   \n",
       "2 110   251   0   \n",
       "3 474   149   0   \n",
       "4 474   140   0   \n",
       "5 474   167   0   \n",
       "6  30   213   0   "
      ]
     },
     "metadata": {},
     "output_type": "display_data"
    }
   ],
   "source": [
    "head(duracao)"
   ]
  },
  {
   "cell_type": "markdown",
   "metadata": {},
   "source": [
    "### Media e Mediana"
   ]
  },
  {
   "cell_type": "code",
   "execution_count": 20,
   "metadata": {},
   "outputs": [
    {
     "data": {
      "text/html": [
       "&lt;NA&gt;"
      ],
      "text/latex": [
       "<NA>"
      ],
      "text/markdown": [
       "&lt;NA&gt;"
      ],
      "text/plain": [
       "[1] NA"
      ]
     },
     "metadata": {},
     "output_type": "display_data"
    }
   ],
   "source": [
    "mean(duracao$dias)"
   ]
  },
  {
   "cell_type": "code",
   "execution_count": 21,
   "metadata": {},
   "outputs": [
    {
     "data": {
      "text/html": [
       "47.8364854215918"
      ],
      "text/latex": [
       "47.8364854215918"
      ],
      "text/markdown": [
       "47.8364854215918"
      ],
      "text/plain": [
       "[1] 47.83649"
      ]
     },
     "metadata": {},
     "output_type": "display_data"
    }
   ],
   "source": [
    "mean(duracao$dias, na.rm = T)"
   ]
  },
  {
   "cell_type": "code",
   "execution_count": 22,
   "metadata": {},
   "outputs": [
    {
     "data": {
      "text/html": [
       "8"
      ],
      "text/latex": [
       "8"
      ],
      "text/markdown": [
       "8"
      ],
      "text/plain": [
       "[1] 8"
      ]
     },
     "metadata": {},
     "output_type": "display_data"
    }
   ],
   "source": [
    "median(duracao$dias, na.rm = T)"
   ]
  },
  {
   "cell_type": "code",
   "execution_count": 23,
   "metadata": {},
   "outputs": [
    {
     "data": {
      "text/plain": [
       "   Min. 1st Qu.  Median    Mean 3rd Qu.    Max.    NA's \n",
       "   0.00    2.00    8.00   47.84   45.00  538.00    3828 "
      ]
     },
     "metadata": {},
     "output_type": "display_data"
    }
   ],
   "source": [
    "summary(duracao$dias)"
   ]
  },
  {
   "cell_type": "code",
   "execution_count": 24,
   "metadata": {},
   "outputs": [
    {
     "data": {
      "text/html": [
       "<ol class=list-inline>\n",
       "\t<li>6366</li>\n",
       "\t<li>3</li>\n",
       "</ol>\n"
      ],
      "text/latex": [
       "\\begin{enumerate*}\n",
       "\\item 6366\n",
       "\\item 3\n",
       "\\end{enumerate*}\n"
      ],
      "text/markdown": [
       "1. 6366\n",
       "2. 3\n",
       "\n",
       "\n"
      ],
      "text/plain": [
       "[1] 6366    3"
      ]
     },
     "metadata": {},
     "output_type": "display_data"
    }
   ],
   "source": [
    "dim(duracao)"
   ]
  },
  {
   "cell_type": "code",
   "execution_count": 25,
   "metadata": {},
   "outputs": [
    {
     "data": {
      "text/html": [
       "6366"
      ],
      "text/latex": [
       "6366"
      ],
      "text/markdown": [
       "6366"
      ],
      "text/plain": [
       "[1] 6366"
      ]
     },
     "metadata": {},
     "output_type": "display_data"
    }
   ],
   "source": [
    "dim(duracao)[1]"
   ]
  },
  {
   "cell_type": "markdown",
   "metadata": {},
   "source": [
    "### Pessoas matriculadas não concluíram aidna os cursos"
   ]
  },
  {
   "cell_type": "code",
   "execution_count": 26,
   "metadata": {},
   "outputs": [
    {
     "data": {
      "text/html": [
       "0.601319509896324"
      ],
      "text/latex": [
       "0.601319509896324"
      ],
      "text/markdown": [
       "0.601319509896324"
      ],
      "text/plain": [
       "[1] 0.6013195"
      ]
     },
     "metadata": {},
     "output_type": "display_data"
    }
   ],
   "source": [
    "dados_faltantes <- 3828\n",
    "total_de_cursos <-  dim(duracao)[1]\n",
    "dados_faltantes / total_de_cursos"
   ]
  },
  {
   "cell_type": "markdown",
   "metadata": {},
   "source": [
    "### Cursos unicos e Alunos unicos"
   ]
  },
  {
   "cell_type": "code",
   "execution_count": 27,
   "metadata": {},
   "outputs": [
    {
     "data": {
      "text/html": [
       "264"
      ],
      "text/latex": [
       "264"
      ],
      "text/markdown": [
       "264"
      ],
      "text/plain": [
       "[1] 264"
      ]
     },
     "metadata": {},
     "output_type": "display_data"
    }
   ],
   "source": [
    "length(unique(duracao$curso))"
   ]
  },
  {
   "cell_type": "code",
   "execution_count": 28,
   "metadata": {},
   "outputs": [
    {
     "data": {
      "text/html": [
       "484"
      ],
      "text/latex": [
       "484"
      ],
      "text/markdown": [
       "484"
      ],
      "text/plain": [
       "[1] 484"
      ]
     },
     "metadata": {},
     "output_type": "display_data"
    }
   ],
   "source": [
    "length(unique(duracao$aluno))"
   ]
  },
  {
   "cell_type": "code",
   "execution_count": 29,
   "metadata": {},
   "outputs": [],
   "source": [
    "write.csv(duracao, file = \"exportado/aula3_duracao.csv\", row.names = FALSE)"
   ]
  }
 ],
 "metadata": {
  "kernelspec": {
   "display_name": "R",
   "language": "R",
   "name": "ir"
  },
  "language_info": {
   "codemirror_mode": "r",
   "file_extension": ".r",
   "mimetype": "text/x-r-source",
   "name": "R",
   "pygments_lexer": "r",
   "version": "3.5.1"
  }
 },
 "nbformat": 4,
 "nbformat_minor": 2
}
