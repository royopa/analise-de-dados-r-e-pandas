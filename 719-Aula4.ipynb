{
 "cells": [
  {
   "cell_type": "markdown",
   "metadata": {},
   "source": [
    "### Aula 4 - Fusão de banco de dados"
   ]
  },
  {
   "cell_type": "markdown",
   "metadata": {},
   "source": [
    "#### para instalar ax bibliotecas execute:\n",
    "##### install.packages('readr')\n",
    "##### install.packages(\"plyr\")"
   ]
  },
  {
   "cell_type": "code",
   "execution_count": 14,
   "metadata": {},
   "outputs": [],
   "source": [
    "library(readr)\n",
    "library(plyr)"
   ]
  },
  {
   "cell_type": "markdown",
   "metadata": {},
   "source": [
    "### Lendo duracao.csv e popularidade.csv"
   ]
  },
  {
   "cell_type": "code",
   "execution_count": 15,
   "metadata": {},
   "outputs": [
    {
     "name": "stderr",
     "output_type": "stream",
     "text": [
      "Parsed with column specification:\n",
      "cols(\n",
      "  aluno = col_integer(),\n",
      "  curso = col_integer(),\n",
      "  dias = col_integer()\n",
      ")\n"
     ]
    },
    {
     "data": {
      "text/html": [
       "<table>\n",
       "<thead><tr><th scope=col>aluno</th><th scope=col>curso</th><th scope=col>dias</th></tr></thead>\n",
       "<tbody>\n",
       "\t<tr><td>477</td><td> 19</td><td>0  </td></tr>\n",
       "\t<tr><td>110</td><td>251</td><td>0  </td></tr>\n",
       "\t<tr><td>474</td><td>149</td><td>0  </td></tr>\n",
       "\t<tr><td>474</td><td>140</td><td>0  </td></tr>\n",
       "\t<tr><td>474</td><td>167</td><td>0  </td></tr>\n",
       "\t<tr><td> 30</td><td>213</td><td>0  </td></tr>\n",
       "</tbody>\n",
       "</table>\n"
      ],
      "text/latex": [
       "\\begin{tabular}{r|lll}\n",
       " aluno & curso & dias\\\\\n",
       "\\hline\n",
       "\t 477 &  19 & 0  \\\\\n",
       "\t 110 & 251 & 0  \\\\\n",
       "\t 474 & 149 & 0  \\\\\n",
       "\t 474 & 140 & 0  \\\\\n",
       "\t 474 & 167 & 0  \\\\\n",
       "\t  30 & 213 & 0  \\\\\n",
       "\\end{tabular}\n"
      ],
      "text/markdown": [
       "\n",
       "aluno | curso | dias | \n",
       "|---|---|---|---|---|---|\n",
       "| 477 |  19 | 0   | \n",
       "| 110 | 251 | 0   | \n",
       "| 474 | 149 | 0   | \n",
       "| 474 | 140 | 0   | \n",
       "| 474 | 167 | 0   | \n",
       "|  30 | 213 | 0   | \n",
       "\n",
       "\n"
      ],
      "text/plain": [
       "  aluno curso dias\n",
       "1 477    19   0   \n",
       "2 110   251   0   \n",
       "3 474   149   0   \n",
       "4 474   140   0   \n",
       "5 474   167   0   \n",
       "6  30   213   0   "
      ]
     },
     "metadata": {},
     "output_type": "display_data"
    }
   ],
   "source": [
    "duracao <- read_csv('exportado/aula3_duracao.csv')\n",
    "head(duracao)"
   ]
  },
  {
   "cell_type": "code",
   "execution_count": 16,
   "metadata": {},
   "outputs": [
    {
     "name": "stderr",
     "output_type": "stream",
     "text": [
      "Parsed with column specification:\n",
      "cols(\n",
      "  course_id = col_integer(),\n",
      "  freq = col_integer()\n",
      ")\n"
     ]
    },
    {
     "data": {
      "text/html": [
       "<table>\n",
       "<thead><tr><th scope=col>course_id</th><th scope=col>freq</th></tr></thead>\n",
       "<tbody>\n",
       "\t<tr><td>2  </td><td> 66</td></tr>\n",
       "\t<tr><td>3  </td><td>  2</td></tr>\n",
       "\t<tr><td>4  </td><td> 93</td></tr>\n",
       "\t<tr><td>5  </td><td>262</td></tr>\n",
       "\t<tr><td>6  </td><td>338</td></tr>\n",
       "\t<tr><td>7  </td><td>493</td></tr>\n",
       "</tbody>\n",
       "</table>\n"
      ],
      "text/latex": [
       "\\begin{tabular}{r|ll}\n",
       " course\\_id & freq\\\\\n",
       "\\hline\n",
       "\t 2   &  66\\\\\n",
       "\t 3   &   2\\\\\n",
       "\t 4   &  93\\\\\n",
       "\t 5   & 262\\\\\n",
       "\t 6   & 338\\\\\n",
       "\t 7   & 493\\\\\n",
       "\\end{tabular}\n"
      ],
      "text/markdown": [
       "\n",
       "course_id | freq | \n",
       "|---|---|---|---|---|---|\n",
       "| 2   |  66 | \n",
       "| 3   |   2 | \n",
       "| 4   |  93 | \n",
       "| 5   | 262 | \n",
       "| 6   | 338 | \n",
       "| 7   | 493 | \n",
       "\n",
       "\n"
      ],
      "text/plain": [
       "  course_id freq\n",
       "1 2          66 \n",
       "2 3           2 \n",
       "3 4          93 \n",
       "4 5         262 \n",
       "5 6         338 \n",
       "6 7         493 "
      ]
     },
     "metadata": {},
     "output_type": "display_data"
    }
   ],
   "source": [
    "popularidade <- read_csv('exportado/aula1_popularidade.csv')\n",
    "head(popularidade)"
   ]
  },
  {
   "cell_type": "markdown",
   "metadata": {},
   "source": [
    "### Media de dias por curso, ignorando valores faltantes"
   ]
  },
  {
   "cell_type": "code",
   "execution_count": 17,
   "metadata": {},
   "outputs": [
    {
     "data": {
      "text/html": [
       "<table>\n",
       "<thead><tr><th scope=col>Group.1</th><th scope=col>x</th></tr></thead>\n",
       "<tbody>\n",
       "\t<tr><td>2        </td><td>126.50000</td></tr>\n",
       "\t<tr><td>3        </td><td>      NaN</td></tr>\n",
       "\t<tr><td>4        </td><td>  5.50000</td></tr>\n",
       "\t<tr><td>5        </td><td> 33.94118</td></tr>\n",
       "\t<tr><td>6        </td><td> 30.50000</td></tr>\n",
       "\t<tr><td>7        </td><td>127.25000</td></tr>\n",
       "</tbody>\n",
       "</table>\n"
      ],
      "text/latex": [
       "\\begin{tabular}{r|ll}\n",
       " Group.1 & x\\\\\n",
       "\\hline\n",
       "\t 2         & 126.50000\\\\\n",
       "\t 3         &       NaN\\\\\n",
       "\t 4         &   5.50000\\\\\n",
       "\t 5         &  33.94118\\\\\n",
       "\t 6         &  30.50000\\\\\n",
       "\t 7         & 127.25000\\\\\n",
       "\\end{tabular}\n"
      ],
      "text/markdown": [
       "\n",
       "Group.1 | x | \n",
       "|---|---|---|---|---|---|\n",
       "| 2         | 126.50000 | \n",
       "| 3         |       NaN | \n",
       "| 4         |   5.50000 | \n",
       "| 5         |  33.94118 | \n",
       "| 6         |  30.50000 | \n",
       "| 7         | 127.25000 | \n",
       "\n",
       "\n"
      ],
      "text/plain": [
       "  Group.1 x        \n",
       "1 2       126.50000\n",
       "2 3             NaN\n",
       "3 4         5.50000\n",
       "4 5        33.94118\n",
       "5 6        30.50000\n",
       "6 7       127.25000"
      ]
     },
     "metadata": {},
     "output_type": "display_data"
    }
   ],
   "source": [
    "sumario_estatistico <- aggregate(duracao$dias, list(duracao$curso), mean, na.rm = T)\n",
    "head(sumario_estatistico)"
   ]
  },
  {
   "cell_type": "code",
   "execution_count": 18,
   "metadata": {},
   "outputs": [
    {
     "data": {
      "text/html": [
       "<table>\n",
       "<thead><tr><th scope=col>curso</th><th scope=col>dias</th></tr></thead>\n",
       "<tbody>\n",
       "\t<tr><td>2        </td><td>126.50000</td></tr>\n",
       "\t<tr><td>3        </td><td>      NaN</td></tr>\n",
       "\t<tr><td>4        </td><td>  5.50000</td></tr>\n",
       "\t<tr><td>5        </td><td> 33.94118</td></tr>\n",
       "\t<tr><td>6        </td><td> 30.50000</td></tr>\n",
       "\t<tr><td>7        </td><td>127.25000</td></tr>\n",
       "</tbody>\n",
       "</table>\n"
      ],
      "text/latex": [
       "\\begin{tabular}{r|ll}\n",
       " curso & dias\\\\\n",
       "\\hline\n",
       "\t 2         & 126.50000\\\\\n",
       "\t 3         &       NaN\\\\\n",
       "\t 4         &   5.50000\\\\\n",
       "\t 5         &  33.94118\\\\\n",
       "\t 6         &  30.50000\\\\\n",
       "\t 7         & 127.25000\\\\\n",
       "\\end{tabular}\n"
      ],
      "text/markdown": [
       "\n",
       "curso | dias | \n",
       "|---|---|---|---|---|---|\n",
       "| 2         | 126.50000 | \n",
       "| 3         |       NaN | \n",
       "| 4         |   5.50000 | \n",
       "| 5         |  33.94118 | \n",
       "| 6         |  30.50000 | \n",
       "| 7         | 127.25000 | \n",
       "\n",
       "\n"
      ],
      "text/plain": [
       "  curso dias     \n",
       "1 2     126.50000\n",
       "2 3           NaN\n",
       "3 4       5.50000\n",
       "4 5      33.94118\n",
       "5 6      30.50000\n",
       "6 7     127.25000"
      ]
     },
     "metadata": {},
     "output_type": "display_data"
    }
   ],
   "source": [
    "sumario_estatistico <- rename(sumario_estatistico, replace = c('Group.1' = 'curso', 'x' = 'dias'))\n",
    "head(sumario_estatistico)"
   ]
  },
  {
   "cell_type": "code",
   "execution_count": 19,
   "metadata": {},
   "outputs": [
    {
     "data": {
      "text/html": [
       "<table>\n",
       "<thead><tr><th scope=col>curso</th><th scope=col>popularidade</th></tr></thead>\n",
       "<tbody>\n",
       "\t<tr><td>2  </td><td> 66</td></tr>\n",
       "\t<tr><td>3  </td><td>  2</td></tr>\n",
       "\t<tr><td>4  </td><td> 93</td></tr>\n",
       "\t<tr><td>5  </td><td>262</td></tr>\n",
       "\t<tr><td>6  </td><td>338</td></tr>\n",
       "\t<tr><td>7  </td><td>493</td></tr>\n",
       "</tbody>\n",
       "</table>\n"
      ],
      "text/latex": [
       "\\begin{tabular}{r|ll}\n",
       " curso & popularidade\\\\\n",
       "\\hline\n",
       "\t 2   &  66\\\\\n",
       "\t 3   &   2\\\\\n",
       "\t 4   &  93\\\\\n",
       "\t 5   & 262\\\\\n",
       "\t 6   & 338\\\\\n",
       "\t 7   & 493\\\\\n",
       "\\end{tabular}\n"
      ],
      "text/markdown": [
       "\n",
       "curso | popularidade | \n",
       "|---|---|---|---|---|---|\n",
       "| 2   |  66 | \n",
       "| 3   |   2 | \n",
       "| 4   |  93 | \n",
       "| 5   | 262 | \n",
       "| 6   | 338 | \n",
       "| 7   | 493 | \n",
       "\n",
       "\n"
      ],
      "text/plain": [
       "  curso popularidade\n",
       "1 2      66         \n",
       "2 3       2         \n",
       "3 4      93         \n",
       "4 5     262         \n",
       "5 6     338         \n",
       "6 7     493         "
      ]
     },
     "metadata": {},
     "output_type": "display_data"
    }
   ],
   "source": [
    "popularidade <- rename(popularidade, c('course_id'='curso', 'freq'='popularidade'))\n",
    "head(popularidade)"
   ]
  },
  {
   "cell_type": "code",
   "execution_count": 20,
   "metadata": {},
   "outputs": [],
   "source": [
    "popularidade_e_duracao <- merge(sumario_estatistico, popularidade, by = 'curso')"
   ]
  },
  {
   "cell_type": "code",
   "execution_count": 21,
   "metadata": {},
   "outputs": [
    {
     "data": {
      "text/html": [
       "<table>\n",
       "<thead><tr><th scope=col>curso</th><th scope=col>dias</th><th scope=col>popularidade</th></tr></thead>\n",
       "<tbody>\n",
       "\t<tr><td>2        </td><td>126.50000</td><td> 66      </td></tr>\n",
       "\t<tr><td>3        </td><td>      NaN</td><td>  2      </td></tr>\n",
       "\t<tr><td>4        </td><td>  5.50000</td><td> 93      </td></tr>\n",
       "\t<tr><td>5        </td><td> 33.94118</td><td>262      </td></tr>\n",
       "\t<tr><td>6        </td><td> 30.50000</td><td>338      </td></tr>\n",
       "\t<tr><td>7        </td><td>127.25000</td><td>493      </td></tr>\n",
       "</tbody>\n",
       "</table>\n"
      ],
      "text/latex": [
       "\\begin{tabular}{r|lll}\n",
       " curso & dias & popularidade\\\\\n",
       "\\hline\n",
       "\t 2         & 126.50000 &  66      \\\\\n",
       "\t 3         &       NaN &   2      \\\\\n",
       "\t 4         &   5.50000 &  93      \\\\\n",
       "\t 5         &  33.94118 & 262      \\\\\n",
       "\t 6         &  30.50000 & 338      \\\\\n",
       "\t 7         & 127.25000 & 493      \\\\\n",
       "\\end{tabular}\n"
      ],
      "text/markdown": [
       "\n",
       "curso | dias | popularidade | \n",
       "|---|---|---|---|---|---|\n",
       "| 2         | 126.50000 |  66       | \n",
       "| 3         |       NaN |   2       | \n",
       "| 4         |   5.50000 |  93       | \n",
       "| 5         |  33.94118 | 262       | \n",
       "| 6         |  30.50000 | 338       | \n",
       "| 7         | 127.25000 | 493       | \n",
       "\n",
       "\n"
      ],
      "text/plain": [
       "  curso dias      popularidade\n",
       "1 2     126.50000  66         \n",
       "2 3           NaN   2         \n",
       "3 4       5.50000  93         \n",
       "4 5      33.94118 262         \n",
       "5 6      30.50000 338         \n",
       "6 7     127.25000 493         "
      ]
     },
     "metadata": {},
     "output_type": "display_data"
    }
   ],
   "source": [
    "head(popularidade_e_duracao)"
   ]
  },
  {
   "cell_type": "code",
   "execution_count": 22,
   "metadata": {},
   "outputs": [],
   "source": [
    "write.csv(popularidade_e_duracao, file= \"exportado/aula4_popularidade_e_duracao.csv\", row.names=FALSE)"
   ]
  }
 ],
 "metadata": {
  "kernelspec": {
   "display_name": "R",
   "language": "R",
   "name": "ir"
  },
  "language_info": {
   "codemirror_mode": "r",
   "file_extension": ".r",
   "mimetype": "text/x-r-source",
   "name": "R",
   "pygments_lexer": "r",
   "version": "3.5.1"
  }
 },
 "nbformat": 4,
 "nbformat_minor": 2
}
